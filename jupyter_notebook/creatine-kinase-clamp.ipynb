{
 "cells": [
  {
   "cell_type": "markdown",
   "metadata": {},
   "source": [
    "An [Online Calculator](https://dmpio.github.io/bioenergetic-calculators/ck_clamp/) to perform the calculations described in this document\n",
    "\n",
    "[Source Code](https://github.com/dmpio/bioenergetic-calculators) for the online calculator"
   ]
  },
  {
   "cell_type": "markdown",
   "metadata": {
    "toc": "true"
   },
   "source": [
    " # Table of Contents\n",
    "<div class=\"toc\" style=\"margin-top: 1em;\"><ul class=\"toc-item\" id=\"toc-level0\"><li><span><a href=\"http://localhost:8888/notebooks/Gibbs/creatine-kinase-clamp.ipynb#Conditions-in-the-CK-Clamp\" data-toc-modified-id=\"Conditions-in-the-CK-Clamp-1\"><span class=\"toc-item-num\">1&nbsp;&nbsp;</span>Conditions in the CK Clamp</a></span><ul class=\"toc-item\"><li><span><a href=\"http://localhost:8888/notebooks/Gibbs/creatine-kinase-clamp.ipynb#Temperature\" data-toc-modified-id=\"Temperature-1.1\"><span class=\"toc-item-num\">1.1&nbsp;&nbsp;</span>Temperature</a></span></li><li><span><a href=\"http://localhost:8888/notebooks/Gibbs/creatine-kinase-clamp.ipynb#Mg\" data-toc-modified-id=\"Mg-1.2\"><span class=\"toc-item-num\">1.2&nbsp;&nbsp;</span>Mg</a></span></li><li><span><a href=\"http://localhost:8888/notebooks/Gibbs/creatine-kinase-clamp.ipynb#Phosphate\" data-toc-modified-id=\"Phosphate-1.3\"><span class=\"toc-item-num\">1.3&nbsp;&nbsp;</span>Phosphate</a></span></li><li><span><a href=\"http://localhost:8888/notebooks/Gibbs/creatine-kinase-clamp.ipynb#pH\" data-toc-modified-id=\"pH-1.4\"><span class=\"toc-item-num\">1.4&nbsp;&nbsp;</span>pH</a></span></li><li><span><a href=\"http://localhost:8888/notebooks/Gibbs/creatine-kinase-clamp.ipynb#Ionic-Strength\" data-toc-modified-id=\"Ionic-Strength-1.5\"><span class=\"toc-item-num\">1.5&nbsp;&nbsp;</span>Ionic Strength</a></span><ul class=\"toc-item\"><li><span><a href=\"http://localhost:8888/notebooks/Gibbs/creatine-kinase-clamp.ipynb#EGTA\" data-toc-modified-id=\"EGTA-1.5.1\"><span class=\"toc-item-num\">1.5.1&nbsp;&nbsp;</span>EGTA</a></span></li><li><span><a href=\"http://localhost:8888/notebooks/Gibbs/creatine-kinase-clamp.ipynb#H₂PO₄\" data-toc-modified-id=\"H₂PO₄-1.5.2\"><span class=\"toc-item-num\">1.5.2&nbsp;&nbsp;</span>H₂PO₄</a></span></li><li><span><a href=\"http://localhost:8888/notebooks/Gibbs/creatine-kinase-clamp.ipynb#MES\" data-toc-modified-id=\"MES-1.5.3\"><span class=\"toc-item-num\">1.5.3&nbsp;&nbsp;</span>MES</a></span></li><li><span><a href=\"http://localhost:8888/notebooks/Gibbs/creatine-kinase-clamp.ipynb#Ionic-Strength-Over-the-CK-Clamp\" data-toc-modified-id=\"Ionic-Strength-Over-the-CK-Clamp-1.5.4\"><span class=\"toc-item-num\">1.5.4&nbsp;&nbsp;</span>Ionic Strength Over the CK Clamp</a></span></li></ul></li></ul></li><li><span><a href=\"http://localhost:8888/notebooks/Gibbs/creatine-kinase-clamp.ipynb#Equations,-Functions,-and-Constants\" data-toc-modified-id=\"Equations,-Functions,-and-Constants-2\"><span class=\"toc-item-num\">2&nbsp;&nbsp;</span>Equations, Functions, and Constants</a></span><ul class=\"toc-item\"><li><span><a href=\"http://localhost:8888/notebooks/Gibbs/creatine-kinase-clamp.ipynb#Van't-Hoff:-Adjusting-Temperature\" data-toc-modified-id=\"Van't-Hoff:-Adjusting-Temperature-2.1\"><span class=\"toc-item-num\">2.1&nbsp;&nbsp;</span>Van't Hoff: Adjusting Temperature</a></span></li><li><span><a href=\"http://localhost:8888/notebooks/Gibbs/creatine-kinase-clamp.ipynb#Debye–Hückel:-Adjusting-the-Ionic-Strength\" data-toc-modified-id=\"Debye–Hückel:-Adjusting-the-Ionic-Strength-2.2\"><span class=\"toc-item-num\">2.2&nbsp;&nbsp;</span>Debye–Hückel: Adjusting the Ionic Strength</a></span></li><li><span><a href=\"http://localhost:8888/notebooks/Gibbs/creatine-kinase-clamp.ipynb#Thermodynamic-Data\" data-toc-modified-id=\"Thermodynamic-Data-2.3\"><span class=\"toc-item-num\">2.3&nbsp;&nbsp;</span>Thermodynamic Data</a></span></li></ul></li><li><span><a href=\"http://localhost:8888/notebooks/Gibbs/creatine-kinase-clamp.ipynb#Adjusting-the-Creatine-Kinase-Equilibrium-Constant\" data-toc-modified-id=\"Adjusting-the-Creatine-Kinase-Equilibrium-Constant-3\"><span class=\"toc-item-num\">3&nbsp;&nbsp;</span>Adjusting the Creatine Kinase Equilibrium Constant</a></span><ul class=\"toc-item\"><li><span><a href=\"http://localhost:8888/notebooks/Gibbs/creatine-kinase-clamp.ipynb#Adjust-the-Kref-of-Creatine-Kinase\" data-toc-modified-id=\"Adjust-the-Kref-of-Creatine-Kinase-3.1\"><span class=\"toc-item-num\">3.1&nbsp;&nbsp;</span>Adjust the K<sub>ref</sub> of Creatine Kinase</a></span></li><li><span><a href=\"http://localhost:8888/notebooks/Gibbs/creatine-kinase-clamp.ipynb#Calculate-the-apparent-equililbrium-constants-for-Creatine-Kinase\" data-toc-modified-id=\"Calculate-the-apparent-equililbrium-constants-for-Creatine-Kinase-3.2\"><span class=\"toc-item-num\">3.2&nbsp;&nbsp;</span>Calculate the apparent equililbrium constants for Creatine Kinase</a></span></li></ul></li><li><span><a href=\"http://localhost:8888/notebooks/Gibbs/creatine-kinase-clamp.ipynb#Adjusting-the-ATP-Hydrolysis-Equilibrium-Constant\" data-toc-modified-id=\"Adjusting-the-ATP-Hydrolysis-Equilibrium-Constant-4\"><span class=\"toc-item-num\">4&nbsp;&nbsp;</span>Adjusting the ATP Hydrolysis Equilibrium Constant</a></span><ul class=\"toc-item\"><li><span><a href=\"http://localhost:8888/notebooks/Gibbs/creatine-kinase-clamp.ipynb#Adjust-the-Kref-of-ATP-Hydrolysis\" data-toc-modified-id=\"Adjust-the-Kref-of-ATP-Hydrolysis-4.1\"><span class=\"toc-item-num\">4.1&nbsp;&nbsp;</span>Adjust the K<sub>ref</sub> of ATP Hydrolysis</a></span></li><li><span><a href=\"http://localhost:8888/notebooks/Gibbs/creatine-kinase-clamp.ipynb#Calculate-the-apparent-equililbrium-constants-for-ATP-Hydrolysis\" data-toc-modified-id=\"Calculate-the-apparent-equililbrium-constants-for-ATP-Hydrolysis-4.2\"><span class=\"toc-item-num\">4.2&nbsp;&nbsp;</span>Calculate the apparent equililbrium constants for ATP Hydrolysis</a></span></li></ul></li><li><span><a href=\"http://localhost:8888/notebooks/Gibbs/creatine-kinase-clamp.ipynb#Calculating-the-Gibbs-Energy\" data-toc-modified-id=\"Calculating-the-Gibbs-Energy-5\"><span class=\"toc-item-num\">5&nbsp;&nbsp;</span>Calculating the Gibbs Energy</a></span><ul class=\"toc-item\"><li><span><a href=\"http://localhost:8888/notebooks/Gibbs/creatine-kinase-clamp.ipynb#Calculate-the-apparent-standard-Gibbs-Energy-of-ATP-Hydrolysis\" data-toc-modified-id=\"Calculate-the-apparent-standard-Gibbs-Energy-of-ATP-Hydrolysis-5.1\"><span class=\"toc-item-num\">5.1&nbsp;&nbsp;</span>Calculate the apparent standard Gibbs Energy of ATP Hydrolysis</a></span></li><li><span><a href=\"http://localhost:8888/notebooks/Gibbs/creatine-kinase-clamp.ipynb#Calculate-the-apparent-Gibbs-Energy-of-ATP-Hydrolysis\" data-toc-modified-id=\"Calculate-the-apparent-Gibbs-Energy-of-ATP-Hydrolysis-5.2\"><span class=\"toc-item-num\">5.2&nbsp;&nbsp;</span>Calculate the apparent Gibbs Energy of ATP Hydrolysis</a></span><ul class=\"toc-item\"><li><span><a href=\"http://localhost:8888/notebooks/Gibbs/creatine-kinase-clamp.ipynb#Use-the-K'Creatine-Kinase-to-determine-the-concentrations-of-ATP-and-ADP\" data-toc-modified-id=\"Use-the-K'Creatine-Kinase-to-determine-the-concentrations-of-ATP-and-ADP-5.2.1\"><span class=\"toc-item-num\">5.2.1&nbsp;&nbsp;</span>Use the K'<sub>Creatine Kinase</sub> to determine the concentrations of ATP and ADP</a></span></li><li><span><a href=\"http://localhost:8888/notebooks/Gibbs/creatine-kinase-clamp.ipynb#Use-the-concentrations-of-ATP-and-ADP-to-calculate-the-apparent-Gibbs-Energy-of-ATP-Hydrolysis\" data-toc-modified-id=\"Use-the-concentrations-of-ATP-and-ADP-to-calculate-the-apparent-Gibbs-Energy-of-ATP-Hydrolysis-5.2.2\"><span class=\"toc-item-num\">5.2.2&nbsp;&nbsp;</span>Use the concentrations of ATP and ADP to calculate the apparent Gibbs Energy of ATP Hydrolysis</a></span></li></ul></li></ul></li><li><span><a href=\"http://localhost:8888/notebooks/Gibbs/creatine-kinase-clamp.ipynb#Graphing-the-Changes-over-the-CK-Clamp\" data-toc-modified-id=\"Graphing-the-Changes-over-the-CK-Clamp-6\"><span class=\"toc-item-num\">6&nbsp;&nbsp;</span>Graphing the Changes over the CK Clamp</a></span><ul class=\"toc-item\"><li><span><a href=\"http://localhost:8888/notebooks/Gibbs/creatine-kinase-clamp.ipynb#Calculating-ATP/ADP-Concentrations-without-adjusting-K`eq\" data-toc-modified-id=\"Calculating-ATP/ADP-Concentrations-without-adjusting-K`eq-6.1\"><span class=\"toc-item-num\">6.1&nbsp;&nbsp;</span>Calculating ATP/ADP Concentrations without adjusting K`<sub>eq</sub></a></span></li><li><span><a href=\"http://localhost:8888/notebooks/Gibbs/creatine-kinase-clamp.ipynb#Plotting-and-Comparing-the-Results\" data-toc-modified-id=\"Plotting-and-Comparing-the-Results-6.2\"><span class=\"toc-item-num\">6.2&nbsp;&nbsp;</span>Plotting and Comparing the Results</a></span></li></ul></li><li><span><a href=\"http://localhost:8888/notebooks/Gibbs/creatine-kinase-clamp.ipynb#References\" data-toc-modified-id=\"References-7\"><span class=\"toc-item-num\">7&nbsp;&nbsp;</span>References</a></span></li></ul></div>"
   ]
  },
  {
   "cell_type": "code",
   "execution_count": 1,
   "metadata": {
    "collapsed": true
   },
   "outputs": [],
   "source": [
    "# Initialize\n",
    "import numpy as np\n",
    "import scipy.constants as const"
   ]
  },
  {
   "cell_type": "markdown",
   "metadata": {},
   "source": [
    "# Conditions in the CK Clamp\n",
    "\n",
    "This section sets up the variables used in the CK Clamp."
   ]
  },
  {
   "cell_type": "markdown",
   "metadata": {},
   "source": [
    "## Temperature"
   ]
  },
  {
   "cell_type": "code",
   "execution_count": 2,
   "metadata": {
    "collapsed": true
   },
   "outputs": [],
   "source": [
    "# Temperature of the assay\n",
    "temp37 = 273.15 + 37"
   ]
  },
  {
   "cell_type": "markdown",
   "metadata": {},
   "source": [
    "## Mg"
   ]
  },
  {
   "cell_type": "code",
   "execution_count": 3,
   "metadata": {
    "code_folding": [],
    "collapsed": true
   },
   "outputs": [],
   "source": [
    "# Free Magnesium [M]\n",
    "# Measured with Magnesium Green at each titration setp\n",
    "freeMg = [\n",
    "    0.000407972,\n",
    "    0.000395923,\n",
    "    0.000377038,\n",
    "    0.000364626,\n",
    "    0.0003487,\n",
    "    0.00033737,\n",
    "    0.000323291,\n",
    "    0.000309397,\n",
    "    0.000299109,\n",
    "    0.000292253,\n",
    "    0.000281548,\n",
    "]"
   ]
  },
  {
   "cell_type": "markdown",
   "metadata": {},
   "source": [
    "## Phosphate"
   ]
  },
  {
   "cell_type": "code",
   "execution_count": 4,
   "metadata": {
    "collapsed": true
   },
   "outputs": [],
   "source": [
    "phosphate = 0.010"
   ]
  },
  {
   "cell_type": "markdown",
   "metadata": {},
   "source": [
    "## pH"
   ]
  },
  {
   "cell_type": "code",
   "execution_count": 5,
   "metadata": {
    "collapsed": true
   },
   "outputs": [],
   "source": [
    "pH = 7.1"
   ]
  },
  {
   "cell_type": "markdown",
   "metadata": {},
   "source": [
    "## Ionic Strength"
   ]
  },
  {
   "cell_type": "markdown",
   "metadata": {},
   "source": [
    "***Ionic Composition of Assay Buffer***\n",
    "\n",
    "| Salt    \t| [M]   \t|\n",
    "|---------\t|-------\t|\n",
    "| K-MES   \t| 0.105 \t|\n",
    "| KCl     \t| 0.030 \t|\n",
    "| KH₂PO₄  \t| 0.010 \t|\n",
    "| MgCl₂   \t| 0.005 \t|\n",
    "| EGTA K₂ \t| 0.001 \t|\n",
    "\n",
    "pH 7.1 at 37°C"
   ]
  },
  {
   "cell_type": "markdown",
   "metadata": {},
   "source": [
    "Ionic Strength is defined as:\n",
    "\n",
    "$$\n",
    "\\begin{equation}\n",
    "\\frac{1}{2} \\sum_{i=1}^n M_i \\times z^2_i\n",
    "\\end{equation}\n",
    "$$\n",
    "\n",
    "Where $M_i$ is the Molarity of the individual ion\n",
    "\n",
    "\n",
    "This system is buffered at a specific pH and contains a few weak acids (H₂PO₄, EGTA K₄, K-MES). Therefore, in addition to their concentration, we need to consider the percent ionization of each species."
   ]
  },
  {
   "cell_type": "markdown",
   "metadata": {},
   "source": [
    "### EGTA\n",
    "J. P. Y. Kao, G. Li, and D. A. Auston, “Chapter 5 - Practical Aspects of Measuring Intracellular Calcium Signals with Fluorescent Indicators,” in Methods in Cell Biology, vol. 99, Supplement C vols., M. Whitaker, Ed. Academic Press, 2010, pp. 113–152.\n",
    "\n",
    "From Figure 7 of the above citation, we know that at pH 7.1, ~99% of the EGTA is H<sub>2</sub>EGTA<sup>2-</sup> . Therefore, we will make the approximation that the added ionic strenght comes from K<sub>2</sub>EGTA\n",
    "\n",
    "For the following two ions, the pKa were obtained from the online calculator http://www.reachdevices.com/Protein/BiologicalBuffers.html\n",
    "\n",
    "### H₂PO₄\n",
    "The pKa of 10 mM H<sub>2</sub>PO<sub>4</sub> is 7. To determine the ion concentrations, we will use the Henderson–Hasselbalch equation:\n",
    "\n",
    "$$\\text{pH} = \\text{pKa} + \\log\\frac{\\text{H}\\text{PO}_4^{2-}}{\\text{H}_2\\text{PO}_4^{1-}}$$\n",
    "\n",
    "Doing this, we find that ~45% of the acid is H₂PO₄<sup>1-</sup> and ~55% is HPO₄<sup>2-</sup>\n",
    "\n",
    "### MES\n",
    "The pKa of of 105 mM MES is 6. Again, using the H-H equation, we find that ~92% of the MES is in the ionic (deprotonated) form\n",
    "\n",
    "Using this information, the basal ionic strength of our buffer is calculated to be 0.168 M"
   ]
  },
  {
   "cell_type": "markdown",
   "metadata": {},
   "source": [
    "### Ionic Strength Over the CK Clamp"
   ]
  },
  {
   "cell_type": "markdown",
   "metadata": {},
   "source": [
    "The salts utilized in the CK Clamp have the following stoichiometry and charge\n",
    "\n",
    "\n",
    "$$\\text{PCr}^{-2} \\cdot \\text{Tris}^{+1}_2$$\n",
    "\n",
    "$$\\text{ATP}^{-4} \\cdot \\text{Tris}^{+1}_2$$\n",
    "\n",
    "\n",
    "The following is an extended table listing the steps in the CK clamp:\n",
    "\n",
    "***Steps for the CK Clamp:***\n",
    "\n",
    "| Step    \t    | Conc. added [M] \t|\n",
    "|---------\t    |:----------------------------:\t|\n",
    "| Initial PCr\t|             0.001            \t|\n",
    "| + ATP   \t    |             0.005            \t|\n",
    "| + PCr 1 \t    |             0.002            \t|\n",
    "| + PCr 2 \t    |             0.003            \t|\n",
    "| + PCr 3 \t    |             0.003            \t|\n",
    "| + PCr 4 \t    |             0.003            \t|\n",
    "| + PCr 5 \t    |             0.003            \t|\n",
    "| + PCr 6 \t    |             0.003            \t|\n",
    "| + PCr 7 \t    |             0.003            \t|\n",
    "| + PCr 8 \t    |             0.003            \t|\n",
    "| + PCr 9 \t    |             0.003            \t|\n",
    "| + PCr 10 \t    |             0.003            \t|\n",
    "\n",
    "Below, we generate a list containing the calculated ionic strength at each step."
   ]
  },
  {
   "cell_type": "code",
   "execution_count": 6,
   "metadata": {
    "code_folding": [],
    "scrolled": true
   },
   "outputs": [
    {
     "name": "stdout",
     "output_type": "stream",
     "text": [
      "Step    Ionic Strength (mM)\n",
      "---------------------------\n",
      "1       216.0       \n",
      "2       222.0       \n",
      "3       231.0       \n",
      "4       240.0       \n",
      "5       249.0       \n",
      "6       258.0       \n",
      "7       267.0       \n",
      "8       276.0       \n",
      "9       285.0       \n",
      "10      294.0       \n",
      "11      303.0       \n"
     ]
    }
   ],
   "source": [
    "#\n",
    "basal_IS = 0.168\n",
    "\n",
    "# Initial PCr and Tris Concentrations\n",
    "pcr_0 = 0.001\n",
    "tris_0 = 2*pcr_0\n",
    "\n",
    "# Initial PCr and Tris Ionic Strength\n",
    "pcr_0_is = 0.5*(pcr_0*(-2)**2 + tris_0*(1)**2)\n",
    "\n",
    "# ATP and Tris\n",
    "atp_conc = 0.005\n",
    "tris_atp = atp_conc*2\n",
    "# ATP Ionic Strength \n",
    "atp_is = 0.5*(atp_conc*(-4)**2 + tris_atp*(1)**2)\n",
    "\n",
    "# First PCr Addition\n",
    "pcr_1 = 0.002\n",
    "tris_1 = pcr_1*2\n",
    "# First PCr Addition Ionic Strength\n",
    "pcr_1_is = 0.5*(pcr_1*(-2)**2 + tris_1*(1)**2)\n",
    "\n",
    "# Subsequent PCr Addition's Added Concentration\n",
    "pcr_add = 0.003\n",
    "tris_add = 2*pcr_add\n",
    "pcr_is_add = 0.5*(pcr_add*(-2)**2 + tris_add*(1)**2)\n",
    "\n",
    "# A list to hold the ionic strengths over the CK Clamp\n",
    "ionicStrengths = []\n",
    "\n",
    "# Workign Buffer  \n",
    "changing_IS = basal_IS + pcr_0_is\n",
    "\n",
    "# After ATP Addition\n",
    "ionicStrengths.append(changing_IS + atp_is)\n",
    "\n",
    "#After 1st PCr Addition\n",
    "ionicStrengths.append(ionicStrengths[0] + pcr_1_is)\n",
    "\n",
    "#After Each Subsequent PCr Addition\n",
    "for step in np.arange(1, 10):\n",
    "    ionicStrengths.append(ionicStrengths[step] + pcr_is_add)\n",
    "\n",
    "\n",
    "# Print the Results\n",
    "print('{0: <8}{1: <16}'.format('Step', 'Ionic Strength (mM)'))\n",
    "print('{:-^27}'.format(''))\n",
    "\n",
    "for idx, step in enumerate(ionicStrengths):\n",
    "    print('{0: <8}{1: <12.6}'.format(idx+1, step*1000))"
   ]
  },
  {
   "cell_type": "markdown",
   "metadata": {},
   "source": [
    "# Equations, Functions, and Constants\n",
    "\n",
    "This section lists the necessary equilibrium constants and briefly describes the equations utilized to adjust them. For a more detialed discussion on the theory, please consult the references listed at the bottom of this document. "
   ]
  },
  {
   "cell_type": "markdown",
   "metadata": {},
   "source": [
    "## Van't Hoff: Adjusting Temperature"
   ]
  },
  {
   "cell_type": "markdown",
   "metadata": {},
   "source": [
    "The Van't Hoff Equation to adjust the temperature of $K_{ref}$ \n",
    "\n",
    "$$\n",
    "\\begin{equation}\n",
    "\\ln\\left(\\frac{K_2}{K_1}\\right) = -\\frac{\\Delta H ^\\circ}{R}\\left( \\frac{1}{T_2} - \\frac{1}{T_1} \\right)\n",
    "\\end{equation}\n",
    "$$\n",
    "\n",
    "$R = 8.3144598 \\frac{J}{K mol}$    \n",
    "$K_1 = K_{ref_{I=0}}$    \n",
    "$T_1 = T $ for temperature of $K_1$    \n",
    "$K_2 = K_{ref_{I=0}}$ at new temperature $T_2$   \n",
    "The equation assumes constant enthalpy $(\\Delta H)$\n",
    "\n",
    "To solve for $K_2$ in the Van't Hoff Equation:\n",
    "$$\n",
    "\\begin{equation}\n",
    "K_2 = e^{\\left\\{-\\frac{\\Delta H ^\\circ}{R}\\left( \\frac{1}{T_2} - \\frac{1}{T_1} \\right) + \\ln \\left(K_1\\right)\\right\\}}\n",
    "\\end{equation}\n",
    "$$\n",
    "\n",
    "The following function `vant_hoff` solves this equation. It is through this function that the reference constants (K<sub>ref</sub>) will be adjusted to the specified Temperature of the assay."
   ]
  },
  {
   "cell_type": "code",
   "execution_count": 7,
   "metadata": {
    "code_folding": [],
    "collapsed": true
   },
   "outputs": [],
   "source": [
    "def vant_hoff(temp1, temp2, Kref1, dH):\n",
    "    \n",
    "    '''\n",
    "    temp1  =   temperature for constant Kref1 (Kelvins)\n",
    "    Kref1  =   constant at temp1 and ionic strength 0 \n",
    "                 [the original constant from which Kref2 will be adjusted]\n",
    "    temp2  =   temperature for constant Kref2 (Kelvins)\n",
    "                 [the new temperature to which Kref1 is to be adjusted] \n",
    "    dH     =   ΔH° associated with Kref1 at temp1 and ionic strength 0 (kilojoules)\n",
    "    \n",
    "    Returns the modified constant at ionic strength 0, temp2\n",
    "    '''\n",
    "    \n",
    "    # note, constants stored in the data table are in kJ; they are converted inline.\n",
    "    \n",
    "    return np.e**((-1000*dH/const.R)*(1/temp2 - 1/temp1) + np.log(Kref1))"
   ]
  },
  {
   "cell_type": "markdown",
   "metadata": {},
   "source": [
    "## Debye–Hückel: Adjusting the Ionic Strength"
   ]
  },
  {
   "cell_type": "markdown",
   "metadata": {},
   "source": [
    "The following function is designed to solve for Γ as defined as:\n",
    "\n",
    "$$\n",
    "\\begin{equation}\n",
    "\\Gamma = \\frac{\\prod \\gamma_{\\text{products}_{I=\\text{finite}}}} {\\prod \\gamma_{\\text{reactants}_{I=\\text{finite}}}}\n",
    "\\end{equation}\n",
    "$$\n",
    "\n",
    "Where γ is derived from the extended Debye–Hückel equation:\n",
    "\n",
    "$$\n",
    "\\begin{equation}\n",
    "\\ln γ = \\frac{-A_m \\sqrt{I} z^2}{1 + B \\sqrt{I}}\n",
    "\\end{equation}\n",
    "$$\n",
    "\n",
    "$I= \\text{ionic strength} (\\frac{mol}{L})$    \n",
    "$B = 1.6 \\frac{kg^{1/2}}{mol^{1/2}}$    \n",
    "$z = \\text{charge}$\n",
    "\n",
    "$$\n",
    "\\begin{equation}\n",
    "γ = e^{\\frac{-A_m \\sqrt{I} z^2}{1 + B \\sqrt{I}}}\n",
    "\\end{equation}\n",
    "$$\n",
    "\n",
    "The variable `Am` is derived from the following equation (Clark and Glew, 1980): \n",
    "\n",
    "$$\n",
    "\\begin{equation}\n",
    "A_m = 3 \\left(-16.390 23 + \\frac{261.337 1}{T} + 3.368 9633\\ln T - 1.437 167\\left(\\frac{T}{100}\\right) + 0.111 995 \\left(\\frac{T}{100}\\right)^2 \\right)\n",
    "\\end{equation}\n",
    "$$\n",
    "\n",
    "Γ relates the reference constant (K<sub>ref</sub>) at a specified (non-zero) ionic strength to the constant at zero ionic strength: \n",
    "\n",
    "$$\n",
    "\\begin{equation}\n",
    "K_{\\text{ref}_{I=O\\text{, }T=\\text{finite}}} = \\Gamma K_{\\text{ref}_{I=\\text{finite, }T=\\text{finite}}}\n",
    "\\end{equation}\n",
    "$$\n",
    "\n",
    "It is through this relationship that the reference constants (K<sub>ref</sub>) will be adjusted to the specified Ionic Strength of the assay."
   ]
  },
  {
   "cell_type": "code",
   "execution_count": 8,
   "metadata": {
    "code_folding": [],
    "collapsed": true
   },
   "outputs": [],
   "source": [
    "def solve_gamma(products, reactants, temp, ionic_strength):\n",
    "    '''\n",
    "    products        =  list of all charged product ions\n",
    "    reactants       =  list of all charged reactant ions\n",
    "    temp            =  temperature in Kelvins\n",
    "    ionic_strength  =  ionic strength in Molarity \n",
    "    \n",
    "    Returns the calculated Γ \n",
    "    '''\n",
    "\n",
    "    # Function to solve for Γ \n",
    "    # Debye–Hückel\n",
    "    Am = 3*(-16.39023 + (261.3371/temp) + 3.3689633*np.log(temp) - 1.437167*(temp/100) + 0.111995*(temp/100)**2)\n",
    "    # constant with units of kg**1/2 mol**-1/2\n",
    "    B = 1.6\n",
    "    \n",
    "    # reactants = list of the charge carried by each reactant ionic species\n",
    "    reactant_gammas = []\n",
    "    # If there isn't a charged species, pass in None to ensure the returned value divides by 1\n",
    "    if reactants[0] == None:\n",
    "        reactant_gammas = [1]\n",
    "    else:\n",
    "        for react in reactants:\n",
    "            reactant_gammas.append(np.e**((-Am * np.sqrt(ionic_strength) * react**2)/(1 + B*np.sqrt(ionic_strength))))\n",
    "    \n",
    "    \n",
    "    # products = list of the charge carried by each product ionic species    \n",
    "    product_gammas = []\n",
    "    # if there isn't a charged species, pass in None to ensure the returned value divides by 1\n",
    "    if products[0] == None:\n",
    "        product_gammas = [1]\n",
    "    else:\n",
    "        for prod in products:\n",
    "            product_gammas.append(np.e**((-Am * np.sqrt(ionic_strength) * prod**2)/(1 + B*np.sqrt(ionic_strength))))\n",
    "    \n",
    "    return np.prod(product_gammas)/np.prod(reactant_gammas)"
   ]
  },
  {
   "cell_type": "markdown",
   "metadata": {},
   "source": [
    "## Thermodynamic Data"
   ]
  },
  {
   "cell_type": "markdown",
   "metadata": {},
   "source": [
    "The Chemical Equations for the hydrolysis of ATP and the Creatine Kinase reaction:"
   ]
  },
  {
   "cell_type": "markdown",
   "metadata": {},
   "source": [
    "$$\n",
    "\\begin{equation}\n",
    "K_{\\text{ref}} = \\frac {[\\text{ADP}^{3-}][\\text{HPO}^{2-}_4][\\text{H}^{+}]}\n",
    "                {[\\text{ATP}^{4-}]}\n",
    "\\end{equation}\n",
    "$$"
   ]
  },
  {
   "cell_type": "markdown",
   "metadata": {},
   "source": [
    "$$\n",
    "\\begin{equation}\n",
    "K_{\\text{ref}} = \\frac {[\\text{ATP}^{4-}][\\text{Cr}]}\n",
    "                {[\\text{ADP}^{3-}][\\text{PCr}^{2-}][\\text{H}^{+}]}\n",
    "\\end{equation}\n",
    "$$"
   ]
  },
  {
   "cell_type": "markdown",
   "metadata": {},
   "source": [
    "The apparent equilibrium constant (K\\`) for the above chemical equations is related to the Reference Equilibrium Constant (K<sub>ref</sub>, which is measured under specific experimental conditions) through the following relationship:"
   ]
  },
  {
   "cell_type": "markdown",
   "metadata": {},
   "source": [
    "$$\n",
    "K'_{ATP} = \\frac {K_{\\text{ref ATP}}}{[\\text{H}{^+}]}\n",
    "\\frac{\n",
    "\\left\\{1 + \\frac {[\\text{H}{^+}]}\n",
    "                  {K_{\\text{a}_{\\text{ADP}}}}\n",
    "                  + K_{\\text{b}_{\\text{MgADP}}}[\\text{Mg}^{2+}]\n",
    "                  + \\frac {K_{\\text{b}_{\\text{MgHADP}}} [\\text{H}{^+}][\\text{Mg}^{2+}]}\n",
    "                          {K_{\\text{a}_{\\text{ADP}}}}\n",
    "\\right\\}\n",
    "\\left\\{ 1 + \\frac {[\\text{H}{^+}]}\n",
    "          {K_{\\text{a}_{\\text{HPO}{_4}}}}\n",
    "  + K_{\\text{b}_{\\text{MgHPO}{_4}}}[\\text{Mg}^{2+}]\n",
    "\\right\\}\n",
    "}\n",
    "{\n",
    "\\left\\{1 + \\frac {[\\text{H}{^+}]}\n",
    "                  {K_{\\text{a}_{\\text{ATP}}}}\n",
    "                  + K_{\\text{b}_{\\text{MgATP}}}[\\text{Mg}^{2+}]\n",
    "                  + \\frac {K_{\\text{b}_{\\text{MgHATP}}} [\\text{H}{^+}][\\text{Mg}^{2+}]}\n",
    "                          {K_{\\text{a}_{\\text{ATP}}}}\n",
    "\\right\\}\n",
    "}\n",
    "$$"
   ]
  },
  {
   "cell_type": "markdown",
   "metadata": {},
   "source": [
    "$$\n",
    "\\begin{equation}\n",
    "K'_{CK} = K_{\\text{ref CK}} \n",
    "    \\frac\n",
    "    {\n",
    "    [\\text{H}{^+}]\\left\\{1 + \\frac {[\\text{H}{^+}]}\n",
    "                            {K_{\\text{a}_{\\text{ATP}}}}\n",
    "                    + K_{\\text{b}_{\\text{MgATP}}}[\\text{Mg}^{2+}]\n",
    "                    + \\frac {K_{\\text{b}_{\\text{MgHATP}}} [\\text{H}{^+}] [\\text{Mg}^{2+}]}\n",
    "                            {K_{\\text{a}_{\\text{ATP}}}}\n",
    "            \\right\\}\n",
    "    }\n",
    "    {\n",
    "    \\left\\{1 + \\frac {[\\text{H}{^+}]}\n",
    "                     {K_{\\text{a}_{\\text{ADP}}}}\n",
    "             + K_{\\text{b}_{\\text{MgADP}}}[\\text{Mg}^{2+}]\n",
    "             + \\frac {K_{\\text{b}_{\\text{MgHADP}}} [\\text{H}{^+}] [\\text{Mg}^{2+}]}\n",
    "                     {K_{\\text{a}_{\\text{ADP}}}}\n",
    "    \\right\\}\n",
    "    \\left\\{1 + \\frac {[\\text{H}{^+}]}\n",
    "                     {K_{\\text{a}_{\\text{PCr}}}}\n",
    "             + K_{\\text{b}_{\\text{MgPCr}}}[\\text{Mg}^{2+}]\n",
    "    \\right\\}\n",
    "    }\n",
    "\\end{equation}\n",
    "$$"
   ]
  },
  {
   "cell_type": "markdown",
   "metadata": {},
   "source": [
    "Each expression contained within $\\{ \\}$ represents one of the ions within the K<sub>ref</sub> expressed as a function of its its acid dissociation and magnesium binding properties. These are also equilibrium constants and must be adjusted for ionic strenght, pH, free magnesium, and temperature of the system. It is through their adjustment and the above equations that we will determine the apparent Equilbrium Constants (K\\`) for the Creatine Kinase reaction and hydrolysis of ATP."
   ]
  },
  {
   "cell_type": "markdown",
   "metadata": {},
   "source": [
    "Teague, Golding, and Dobson (1996) compiled the following table of reference constants. The values listed are at an ionic strength of 0 and temperature of 25°C. These constants will be used to solve the apparent Equilibrium Constants in the above equations. "
   ]
  },
  {
   "cell_type": "markdown",
   "metadata": {},
   "source": [
    "|                Symbol               | Python Variable |                                        Reaction                                       |                                Equilibrium Constant                               | $K_{\\text{ref}}$ | $\\Delta H{^\\circ} (kJ mol^{-1})$ |\n",
    "|:-----------------------------------:|:---------------:|:-------------------------------------------------------------------------------------:|:---------------------------------------------------------------------------------:|:----------------:|:--------------------------------:|\n",
    "|    $$K_{\\text{a}_{\\text{ATP}}}$$    |      Ka_atp     |              $$\\text{HATP}^{3-} \\leftrightarrow \\text{H}{^+} + \\text{ATP}^{4-}$$             |              $$\\frac{[\\text{H}{^+}][\\text{ATP}^{4-}]}{[\\text{HATP}^{3-}]}$$              |     2.512e-8     |               -6.30              |\n",
    "|   $$K_{\\text{b}_{\\text{MgATP}}}$$   |    Kb_mg_atp    |         $$\\text{Mg}^{2+} + \\text{ATP}^{4-} \\leftrightarrow \\text{MgATP}^{2-}$$        |         $$\\frac{[\\text{MgATP}^{2-}]}{[\\text{Mg}^{2+}][\\text{ATP}^{4-}]}$$         |      1.514e6     |               22.90              |\n",
    "|   $$K_{\\text{b}_{\\text{MgHATP}}}$$  |    Kb_mg_hatp   |        $$\\text{Mg}^{2+} + \\text{HATP}^{3-} \\leftrightarrow \\text{MgHATP}^{1-}$$       |        $$\\frac{[\\text{MgHATP}^{1-}]}{[\\text{Mg}^{2+}][\\text{HATP}^{3-}]}$$        |      4.266e3     |               16.90              |\n",
    "|    $$K_{\\text{a}_{\\text{ADP}}}$$    |      Ka_adp     |              $$\\text{HADP}^{2-} \\leftrightarrow \\text{H}{^+} + \\text{ADP}^{3-}$$             |              $$\\frac{[\\text{H}{^+}][\\text{ADP}^{3-}]}{[\\text{HADP}^{2-}]}$$              |     6.607e-8     |               -5.60              |\n",
    "|   $$K_{\\text{b}_{\\text{MgADP}}}$$   |   Kb_mg_adp    |         $$\\text{Mg}^{2+} + \\text{ADP}^{3-} \\leftrightarrow \\text{MgADP}^{1-}$$        |         $$\\frac{[\\text{MgADP}^{1-}]}{[\\text{Mg}^{2+}][\\text{ADP}^{3-}]}$$         |      4.466e4     |               19.0               |\n",
    "|   $$K_{\\text{b}_{\\text{MgHADP}}}$$  |    Kb_mg_hadp   |          $$\\text{Mg}^{2+} + \\text{HADP}^{2-} \\leftrightarrow \\text{MgHADP}$$          |           $$\\frac{[\\text{MgHADP}]}{[\\text{Mg}^{2+}][\\text{HADP}^{2-}]}$$          |      3.163e2     |               12.50              |\n",
    "|  $$K_{\\text{a}_{\\text{HPO}{_4}}}$$  |      Ka_pho     | $$\\text{H}{_2}\\text{PO}{_4}^{1-} \\leftrightarrow \\text{H}{^+} + \\text{HPO}{_4}^{2-}$$ | $$\\frac {[\\text{HPO}{_4}^{2-}][\\text{H}^{+}]}{[\\text{H}{_2}\\text{PO}{_4}^{1-}]}$$ |     6.026e-8     |               3.60               |\n",
    "| $$K_{\\text{b}_{\\text{MgHPO}{_4}}}$$ |    Kb_mg_pho    |       $$\\text{Mg}^{2+} + \\text{HPO}{_4}^{2-} \\leftrightarrow \\text{MgHPO}{_4}$$       |        $$\\frac{[\\text{MgHPO}{_4}]}{[\\text{Mg}^{2+}][\\text{HPO}{_4}^{2-}]}$$       |      5.128e2     |               12.20              |\n",
    "|   $$K_{\\text{a}_{\\text{PCr}}}$$     |      Ka_pcr     |       $$\\text{HPCr}^{1-} \\leftrightarrow \\text{H}{^+} + \\text{PCr}^{2-}$$       |       $$\\frac{[\\text{H}{^+}][\\text{PCr}^{2-}]}{[\\text{HPCr}^{1-}]}$$       |     8.854e-6     |               2.66               |\n",
    "|  $$K_{\\text{b}_{\\text{MgPCr}}}$$    |    Kb_mg_pcr    |     $$\\text{Mg}^{2+} + \\text{PCr}^{2-} \\leftrightarrow \\text{MgPCr}$$    |     $$\\frac{[\\text{MgPCr}]}{[\\text{Mg}^{2+}][\\text{PCr}^{2-}]}$$    |      2.320e2     |               8.19               |\n",
    "|  $$K_{\\text{ref ATP}}$$             |     Kref_ATP    |      $$\\text{ATP}^{4-} + \\text{H}_2\\text{O} \\leftrightarrow \\text{ADP}^{3-} + \\text{HPO}{_4}^{2-} + \\text{H}^+$$ | $$\\frac{[\\text{ADP}^{3-}][\\text{HPO}{_4}^{2-}][\\text{H}^+]}{[\\text{ATP}^{4-}]}$$ | 2.946e-1 | -20.50|\n",
    "| $$K_{\\text{ref CK}}$$               |     Kref_CK     |  $$\\text{PCr}^{2-} + \\text{ADP}^{3-} + \\text{H}^+ \\leftrightarrow \\text{ATP}^{4-} + \\text{Cr} $$  |   $$\\frac{[\\text{ATP}^{4-}][\\text{Cr}]}{[\\text{PCr}^{2-}][\\text{ADP}^{3-}][\\text{H}^+]}$$  | 2.58e8 | -17.55 |\n"
   ]
  },
  {
   "cell_type": "code",
   "execution_count": 9,
   "metadata": {
    "code_folding": [],
    "collapsed": true
   },
   "outputs": [],
   "source": [
    "# Defining a class to hold the thermodynamic information\n",
    "class equilibriumConstant:\n",
    "    def __init__(self, kref, dH, product_charges, reactant_charges, new_name):\n",
    "        self.kref  =  kref\n",
    "        self.dH    =  dH\n",
    "        self.prod  =  product_charges\n",
    "        self.react =  reactant_charges\n",
    "        self.name  =  new_name\n",
    "\n",
    "# From  Acid and Mg-Binding Constants at T=25°C, I=0\n",
    "# Tuple Positional Key\n",
    "# [0] Kref \n",
    "# [1] ΔH° (kJ/mol)\n",
    "# [2] list of product charges (all positive as they will be squared later)\n",
    "# [3] list of reactant charges\n",
    "# [4] dict. string for new_Ks\n",
    "\n",
    "is0_Ka_atp      =  equilibriumConstant(2.512e-08,  -6.30,   [1, 4],    [3],      'Ka_atp')\n",
    "is0_Kb_mg_atp   =  equilibriumConstant(1.514e+06,   22.90,  [2],       [4, 2],   'Kb_mg_atp')\n",
    "is0_Kb_mg_hatp  =  equilibriumConstant(4.266e+03,   16.90,  [1],       [2, 3],   'Kb_mg_hatp')\n",
    "is0_Ka_adp      =  equilibriumConstant(6.607e-08,  -5.60,   [1, 3],    [2],      'Ka_adp')\n",
    "is0_Kb_mg_adp   =  equilibriumConstant(4.466e+04,   19,     [1],       [2, 3],   'Kb_mg_adp')\n",
    "is0_Kb_mg_hadp  =  equilibriumConstant(3.163e+02,   12.50,  [None],    [2, 2],   'Kb_mg_hadp')\n",
    "is0_Ka_pho      =  equilibriumConstant(6.026e-8,    12.2,   [2],       [None],   'Ka_pho')\n",
    "is0_Kb_mg_pho   =  equilibriumConstant(5.128e+02,   8.19,   [None],    [2, 2],   'Kb_mg_pho')\n",
    "is0_Ka_pcr      =  equilibriumConstant(8.854e-06,   2.66,   [2],       [None],   'Ka_pcr')\n",
    "is0_Kb_mg_pcr   =  equilibriumConstant(2.320e+02,   8.19,   [None],    [2, 2],   'Kb_mg_pcr')\n",
    "\n",
    "Kref_CK         =  equilibriumConstant(2.58e8,   -17.55,    [4],       [3, 2, 1], 'Kref_CK')\n",
    "Kref_ATP        =  equilibriumConstant(2.946e-1, -20.50,    [3, 2, 1], [4] ,      'Kref_ATP')\n",
    "\n",
    "# the temperature of the reference constants\n",
    "temp25 = 273.15 + 25 "
   ]
  },
  {
   "cell_type": "markdown",
   "metadata": {
    "collapsed": true
   },
   "source": [
    "# Adjusting the Creatine Kinase Equilibrium Constant "
   ]
  },
  {
   "cell_type": "markdown",
   "metadata": {},
   "source": [
    "In section 1, we detailed the experimental conditions over the Creatine Kinase clamp. \n",
    "\n",
    "In section 2, the necessary equations and constants were outlined. \n",
    "\n",
    "In this section, we will combine that information to determine the apparent Creatine Kinase Equilibrium Constant. "
   ]
  },
  {
   "cell_type": "markdown",
   "metadata": {},
   "source": [
    "## Adjust the K<sub>ref</sub> of Creatine Kinase "
   ]
  },
  {
   "cell_type": "markdown",
   "metadata": {},
   "source": [
    "**Step 1.** Use the Van't Hoff equation to adjust $K_{\\text{ref}_{I=0, T=25°C}}$ to 37°C.\n",
    "\n",
    "$$\n",
    "K_{\\text{ref}_{I=0, T=37°C}} = e^{\\left\\{-\\frac{\\Delta H ^\\circ}{R}\\left( \\frac{1}{T_2} - \\frac{1}{T_1} \\right) + \\ln \\left(K_{\\text{ref}_{I=0, T=25°C}}\\right)\\right\\}}\n",
    "$$\n",
    "\n",
    "(See above section [Van't Hoff](#Van't-Hoff:-Adjusting-Temperature) for more details)"
   ]
  },
  {
   "cell_type": "code",
   "execution_count": 10,
   "metadata": {},
   "outputs": [
    {
     "name": "stdout",
     "output_type": "stream",
     "text": [
      "Creatine Kinase Kref\n",
      "  -Ionic Strength 0\n",
      "  -Temp. 37°C\n",
      "\n",
      "1.9618e+08\n"
     ]
    }
   ],
   "source": [
    "# The temperature of the reference constant \n",
    "temp25 = 273.15 + 25\n",
    "# The temperature to which we will adjust the constant\n",
    "temp37 = 273.15 + 37\n",
    "\n",
    "# We use the function vant_hoff (defined above) to solve the Van't Hoff equation\n",
    "# and adjust the constant to 37°C\n",
    "\n",
    "CK_k2 = vant_hoff(temp25, temp37, Kref_CK.kref, Kref_CK.dH)\n",
    "\n",
    "print('Creatine Kinase Kref\\n  -Ionic Strength 0\\n  -Temp. 37°C\\n')\n",
    "print('{:.4e}'.format(CK_k2))"
   ]
  },
  {
   "cell_type": "markdown",
   "metadata": {},
   "source": [
    "**Step. 2.** Adjust the $K_{\\text{ref}}$ from an Ionic Strength of 0 to the Ionic Strength at each step of the assay\n",
    "\n",
    "$$\n",
    "\\begin{equation}\n",
    "\\frac {K_{\\text{ref}_{I=0\\text{, }T=\\text{37°C}}}}{\\Gamma_{I=\\text{CK Clamp}}} = K_{\\text{ref}_{I=\\text{CK Clamp, }T=\\text{37°C}}}\n",
    "\\end{equation}\n",
    "$$\n",
    "\n",
    "(See above section [Debye–Hückel](#Debye–Hückel:-Adjusting-the-Ionic-Strength) for more details)"
   ]
  },
  {
   "cell_type": "code",
   "execution_count": 11,
   "metadata": {},
   "outputs": [
    {
     "name": "stdout",
     "output_type": "stream",
     "text": [
      "Step    Creatine Kinase Krefs\n",
      "-----------------------------\n",
      "1       3.72103e+08 \n",
      "2       3.73981e+08 \n",
      "3       3.76729e+08 \n",
      "4       3.79397e+08 \n",
      "5       3.81990e+08 \n",
      "6       3.84514e+08 \n",
      "7       3.86971e+08 \n",
      "8       3.89366e+08 \n",
      "9       3.91701e+08 \n",
      "10      3.93979e+08 \n",
      "11      3.96204e+08 \n"
     ]
    }
   ],
   "source": [
    "# CK Clamp temperature in Kelvin \n",
    "temp37 = 273.15 + 37\n",
    "\n",
    "# List to hold the new CK_Kref at each steop of the CK Clamp titration\n",
    "CK_kref_titration = []\n",
    "\n",
    "# iterate through each step in the CK clamp and \n",
    "# adjust the constant to the appropriate ionic strength \n",
    "for ion_str in ionicStrengths:\n",
    "    # We use our function solve_gamma (based on the extended Debye–Hückel equation, defined above)\n",
    "    # to calculate Γ\n",
    "    gamma = solve_gamma(Kref_CK.prod, Kref_CK.react, temp37, ion_str)\n",
    "    \n",
    "    # We divide the temperature-adjusted constant (from step 1) by gamma \n",
    "    # to adjust to the new ionic strength\n",
    "    CK_k3 = CK_k2/gamma\n",
    "    \n",
    "    # Append the constant to the end of our holding list\n",
    "    CK_kref_titration.append(CK_k3)\n",
    "\n",
    "\n",
    "# Print the Results\n",
    "print('{0: <8}{1: <16}'.format('Step', 'Creatine Kinase Krefs'))\n",
    "print('{:-^29}'.format(''))\n",
    "\n",
    "for idx, step in enumerate(CK_kref_titration):\n",
    "    print('{0: <8}{1: <#12.6}'.format(idx+1, step))"
   ]
  },
  {
   "cell_type": "markdown",
   "metadata": {},
   "source": [
    "## Calculate the apparent equililbrium constants for Creatine Kinase"
   ]
  },
  {
   "cell_type": "markdown",
   "metadata": {
    "collapsed": true
   },
   "source": [
    "The following function accepts 5 arguments: \n",
    "1. A list containing the ionic strength of each step in the assay.\n",
    "1. The temperature of the assay in °C \n",
    "1. A list of the adjusted Creatine Kinase reference constants (calculated above)\n",
    "1. The pH of the assay\n",
    "1. A list containing the free magnesium concentration of each step in the assay\n",
    "\n",
    "`calc_CK_Keq_steps` performs the same calculations (steps 1 and 2) to each of the equilibrium constants in the chemical equation of the Creatine Kinase reaction. It then uses those values (along with the experimental conditions) to solve the apparent equilibrium constant of CK (K\\`). This is repeated for each step in the assay and stored in a list."
   ]
  },
  {
   "cell_type": "code",
   "execution_count": 12,
   "metadata": {
    "code_folding": [],
    "collapsed": true
   },
   "outputs": [],
   "source": [
    "def calc_CK_Keq_steps(ionicStrengths, tempK, CK_kref_titration, pH, freeMg):\n",
    "    '''\n",
    "    ionicStrengths =   list of ionic strength values over titration. (Molarity)\n",
    "    temp           =   temperature of the assay in Kelvins\n",
    "    pH             =   the pH of the assay\n",
    "    freeMg         =   list of free Magnesium concentration over the titration. (Molarity)\n",
    "    \n",
    "    Returns a list of the apparent CK Eq. Constants (Keq_CK)\n",
    "    '''\n",
    "    # Convert input variables into necessary units\n",
    "    proton = 10**-pH\n",
    "    temp25 = 273.15 + 25\n",
    "    \n",
    "    # List to store CK Equilibrium Constants calculated for each step of the CK-Clamp titration\n",
    "    Keq_CK = []\n",
    "    \n",
    "    # Make sure the 2 lists are equal\n",
    "    if len(ionicStrengths) != len(freeMg):\n",
    "        raise ValueError('Size mismatch: the length of ionicStrengths and freeMg are not equal')\n",
    "        \n",
    "    # A list of the constants contained in the Creatine Kinase reaction\n",
    "    ck_Ks =  [is0_Ka_atp,\n",
    "              is0_Kb_mg_atp,\n",
    "              is0_Kb_mg_hatp,\n",
    "              is0_Ka_adp,\n",
    "              is0_Kb_mg_adp,\n",
    "              is0_Kb_mg_hadp,\n",
    "              is0_Ka_pcr,\n",
    "              is0_Kb_mg_pcr]\n",
    "    \n",
    "    # iterate through each ionic strength change in the CK Clamp\n",
    "    for index, ion_str in enumerate(ionicStrengths):\n",
    "    \n",
    "        # a dictionary to store the modified equilibrium constants at each step in the titration\n",
    "        new_Kabs = {}\n",
    "        \n",
    "        # Free Magnesium at the specific ionic strength\n",
    "        mg = freeMg[index]\n",
    "        \n",
    "        # iterate through the acid and Mg-binding Krefs in the CK Eq reaction\n",
    "        for k1 in ck_Ks:\n",
    "            \n",
    "            # Use Van't Hoff \n",
    "            # new kref (k2) adjusted from I=0, T=25°C to I=0, T=tempK\n",
    "            k2 = vant_hoff(temp25, tempK, k1.kref, k1.dH)\n",
    "            \n",
    "            # Use Debye–Hückel\n",
    "            # new kref (k3) adjusted from I=0,T=25°C to new I, T=tempK\n",
    "            # the k1 object contains the product and reactant charges\n",
    "            k3 = k2/solve_gamma(k1.prod, k1.react, tempK, ion_str)\n",
    "            \n",
    "            # Store the new equilibrium constant \n",
    "            new_Kabs[k1.name] = k3\n",
    "        \n",
    "        # Modified Equilibrium Constant for the Creatine Kinase Reaction\n",
    "        products = (1 + proton/new_Kabs['Ka_atp'] + new_Kabs['Kb_mg_atp']*mg \n",
    "                    + new_Kabs['Kb_mg_hatp']*proton*mg/new_Kabs['Ka_atp'])\n",
    "        \n",
    "        react_adp = (1 + proton/new_Kabs['Ka_adp'] + new_Kabs['Kb_mg_adp']*mg \n",
    "                     + new_Kabs['Kb_mg_hadp']*proton*mg/new_Kabs['Ka_adp'])\n",
    "        \n",
    "        react_pcr = (1 + proton/new_Kabs['Ka_pcr'] + new_Kabs['Kb_mg_pcr']*mg)\n",
    "    \n",
    "        Kf_CK = CK_kref_titration[index] * proton * products/(react_adp * react_pcr)\n",
    "        \n",
    "        # Append the apparent Keq to our holding list \n",
    "        Keq_CK.append(Kf_CK)\n",
    "\n",
    "    \n",
    "    return Keq_CK"
   ]
  },
  {
   "cell_type": "code",
   "execution_count": 13,
   "metadata": {
    "code_folding": []
   },
   "outputs": [
    {
     "name": "stdout",
     "output_type": "stream",
     "text": [
      "Step    Creatine Kinase K`\n",
      "--------------------------\n",
      "1       111.375     \n",
      "2       107.882     \n",
      "3       102.729     \n",
      "4       98.6674     \n",
      "5       94.3429     \n",
      "6       90.8248     \n",
      "7       87.1235     \n",
      "8       83.6187     \n",
      "9       80.7410     \n",
      "10      78.4410     \n",
      "11      75.7824     \n"
     ]
    }
   ],
   "source": [
    "# CK Clamp temperature in Kelvins \n",
    "temp37 = 273.15 + 37\n",
    "\n",
    "Keq_CK = calc_CK_Keq_steps(ionicStrengths, temp37, CK_kref_titration, pH, freeMg)\n",
    "\n",
    "# Print the Results\n",
    "print('{0: <8}{1: <16}'.format('Step', 'Creatine Kinase K`'))\n",
    "print('{:-^26}'.format(''))\n",
    "\n",
    "for idx, step in enumerate(Keq_CK):\n",
    "    print('{0: <8}{1: <#12.6}'.format(idx+1, step))"
   ]
  },
  {
   "cell_type": "markdown",
   "metadata": {},
   "source": [
    "# Adjusting the ATP Hydrolysis Equilibrium Constant"
   ]
  },
  {
   "cell_type": "markdown",
   "metadata": {},
   "source": [
    "This section has the same format as [Section 3](Adjusting-the-Creatine-Kinase-Equilibrium-Constant)"
   ]
  },
  {
   "cell_type": "markdown",
   "metadata": {},
   "source": [
    "## Adjust the K<sub>ref</sub> of ATP Hydrolysis"
   ]
  },
  {
   "cell_type": "markdown",
   "metadata": {},
   "source": [
    "**Step 1.** Use the Van't Hoff equation to adjust $K_{\\text{ref}_{I=0, T=25°C}}$ to 37°C.\n",
    "\n",
    "$$\n",
    "K_{\\text{ref}_{I=0, T=37°C}} = e^{\\left\\{-\\frac{\\Delta H ^\\circ}{R}\\left( \\frac{1}{T_2} - \\frac{1}{T_1} \\right) + \\ln \\left(K_{\\text{ref}_{I=0, T=25°C}}\\right)\\right\\}}\n",
    "$$\n",
    "\n",
    "(See above section [Van't Hoff](#Van't-Hoff:-Adjusting-Temperature) for more details)"
   ]
  },
  {
   "cell_type": "code",
   "execution_count": 14,
   "metadata": {},
   "outputs": [
    {
     "name": "stdout",
     "output_type": "stream",
     "text": [
      "ATP Hydrolysis Kref\n",
      "  -Ionic Strength 0\n",
      "  -Temp. 37°C\n",
      "\n",
      "2.1393e-01\n"
     ]
    }
   ],
   "source": [
    "# The temperature of the reference constant \n",
    "temp25 = 273.15 + 25\n",
    "# The temperature to which we will adjust the constant\n",
    "temp37 = 273.15 + 37\n",
    "\n",
    "# We use the function vant_hoff (defined above) to solve the Van't Hoff equation\n",
    "# and adjust the constant to 37°C\n",
    "\n",
    "ATP_k2 = vant_hoff(temp25, temp37, Kref_ATP.kref, Kref_ATP.dH)\n",
    "\n",
    "print('ATP Hydrolysis Kref\\n  -Ionic Strength 0\\n  -Temp. 37°C\\n')\n",
    "print('{:.4e}'.format(ATP_k2))"
   ]
  },
  {
   "cell_type": "markdown",
   "metadata": {},
   "source": [
    "**Step. 2.** Adjust the $K_{\\text{ref}}$ from an Ionic Strength of 0 to the Ionic Strength at each step of the assay\n",
    "\n",
    "$$\n",
    "\\begin{equation}\n",
    "\\frac {K_{\\text{ref}_{I=0\\text{, }T=\\text{37°C}}}}{\\Gamma_{I=\\text{CK Clamp}}} = K_{\\text{ref}_{I=\\text{CK Clamp, }T=\\text{37°C}}}\n",
    "\\end{equation}\n",
    "$$\n",
    "\n",
    "(See above section [Debye–Hückel](#Debye–Hückel:-Adjusting-the-Ionic-Strength) for more details)"
   ]
  },
  {
   "cell_type": "code",
   "execution_count": 15,
   "metadata": {},
   "outputs": [
    {
     "name": "stdout",
     "output_type": "stream",
     "text": [
      "Step    ATP Hydrolysis Krefs\n",
      "----------------------------\n",
      "1       0.112790    \n",
      "2       0.112224    \n",
      "3       0.111406    \n",
      "4       0.110622    \n",
      "5       0.109871    \n",
      "6       0.109150    \n",
      "7       0.108457    \n",
      "8       0.107790    \n",
      "9       0.107147    \n",
      "10      0.106528    \n",
      "11      0.105929    \n"
     ]
    }
   ],
   "source": [
    "# Assay temperature in Kelvin \n",
    "temp37 = 273.15 + 37\n",
    "\n",
    "# List to hold the new ATP_Kref at each steop of the assay\n",
    "ATP_kref_titration = []\n",
    "\n",
    "# iterate through each step in the assay and \n",
    "# adjust the constant to the appropriate ionic strength \n",
    "for ion_str in ionicStrengths:\n",
    "    # We use our function solve_gamma (based on the extended Debye–HüATPel equation, defined above)\n",
    "    # to calculate Γ\n",
    "    gamma = solve_gamma(Kref_ATP.prod, Kref_ATP.react, temp37, ion_str)\n",
    "    \n",
    "    # We divide the temperature-adjusted constant (from step 1) by gamma \n",
    "    # to adjust to the new ionic strength\n",
    "    ATP_k3 = ATP_k2/gamma\n",
    "    \n",
    "    # Append the constant to the end of our holding list\n",
    "    ATP_kref_titration.append(ATP_k3)\n",
    "\n",
    "\n",
    "# Print the Results\n",
    "print('{0: <8}{1: <16}'.format('Step', 'ATP Hydrolysis Krefs'))\n",
    "print('{:-^28}'.format(''))\n",
    "\n",
    "for idx, step in enumerate(ATP_kref_titration):\n",
    "    print('{0: <8}{1: <#12.6}'.format(idx+1, step))"
   ]
  },
  {
   "cell_type": "markdown",
   "metadata": {},
   "source": [
    "## Calculate the apparent equililbrium constants for ATP Hydrolysis"
   ]
  },
  {
   "cell_type": "markdown",
   "metadata": {},
   "source": [
    "The following function accepts 5 arguments: \n",
    "1. A list containing the ionic strength of each step in the assay.\n",
    "1. The temperature of the assay in °C \n",
    "1. A list of the adjusted ATP Hydrolysis reference constants (calculated above)\n",
    "1. The pH of the assay\n",
    "1. A list containing the free magnesium concentration of each step in the assay\n",
    "\n",
    "`calc_ATP_Keq_steps` performs the same calculations (steps 1 and 2) to each of the equilibrium constants in the chemical equation of ATP Hydrolysis. It then uses those values (along with the experimental conditions) to solve the apparent equilibrium constant of ATP Hydrolysis (K\\`). This is repeated for each step in the assay and stored in a list."
   ]
  },
  {
   "cell_type": "code",
   "execution_count": 16,
   "metadata": {
    "code_folding": [],
    "collapsed": true
   },
   "outputs": [],
   "source": [
    "def calc_ATP_Keq_steps(ionicStrengths, tempK, ATP_kref_titration, pH, freeMg):\n",
    "    '''\n",
    "    ionicStrengths =   list of ionic strength values over titration. Unit = Molarity\n",
    "    temp           =   temperature of the assay in Kelvin\n",
    "    pH             =   the pH of the assay\n",
    "    freeMg         =   list of free Magnesium concentration over the titration. Unit = Molarity.\n",
    "    \n",
    "    Returns a list of the apparent ATP Hydrolysis Eq. Constants (Keq_ATP)\n",
    "    '''\n",
    "    \n",
    "    # Convert input variables into necessary units\n",
    "    proton = 10**-pH\n",
    "    \n",
    "    # Temp. of all reference constants\n",
    "    temp25 = 273.15 + 25\n",
    "    \n",
    "    # List to store ATP Equilibrium Constants calculated for each step of the ATP-Clamp titration\n",
    "    Keq_ATP = []\n",
    "    \n",
    "    # Make sure the 2 lists are equal\n",
    "    if len(ionicStrengths) != len(freeMg):\n",
    "        raise ValueError('Size mismatch: the length of ionicStrengths and freeMg are not equal')\n",
    "        \n",
    "    # A list of the constants contained in the ATP Hydrolysis reaction\n",
    "    atp_Ks = [is0_Ka_atp,\n",
    "              is0_Kb_mg_atp,\n",
    "              is0_Kb_mg_hatp,\n",
    "              is0_Ka_adp,\n",
    "              is0_Kb_mg_adp,\n",
    "              is0_Kb_mg_hadp,\n",
    "              is0_Ka_pho,\n",
    "              is0_Kb_mg_pho]\n",
    "    \n",
    "    # iterate through each ionic strength change in the assay\n",
    "    for index, ion_str in enumerate(ionicStrengths):\n",
    "    \n",
    "        # a dictionary to store the modified equilibrium constants at each step in the titration\n",
    "        new_Kabs = {}\n",
    "        \n",
    "        # Free Magnesium at the specific ionic strength\n",
    "        mg = freeMg[index]\n",
    "        \n",
    "        # iterate through the acid and Mg-binding Krefs in the ATP Eq reaction\n",
    "        for k1 in atp_Ks:\n",
    "            \n",
    "            # Use Van't Hoff \n",
    "            # new kref (k2) adjusted from I=0, T=25°C to I=0, T=tempK\n",
    "            k2 = vant_hoff(temp25, tempK, k1.kref, k1.dH)\n",
    "            \n",
    "            # Use Debye–Hückel\n",
    "            # new kref (k3) adjusted from I=0,T=25°C to new I, T=tempK\n",
    "            # the k1 object contains the product and reactant charges\n",
    "            k3 = k2/solve_gamma(k1.prod, k1.react, tempK, ion_str)\n",
    "            \n",
    "            # Store the new equilibrium constant \n",
    "            new_Kabs[k1.name] = k3\n",
    "        \n",
    "        # Modified Equilibrium Constant for the ATP Hydrolysis Reaction\n",
    "        react = (1 + proton/new_Kabs['Ka_atp'] + new_Kabs['Kb_mg_atp']*mg \n",
    "                 + new_Kabs['Kb_mg_hatp']*proton*mg/new_Kabs['Ka_atp'])\n",
    "        \n",
    "        prod_adp = (1 + proton/new_Kabs['Ka_adp'] + new_Kabs['Kb_mg_adp']*mg \n",
    "                    + new_Kabs['Kb_mg_hadp']*proton*mg/new_Kabs['Ka_adp'])\n",
    "        \n",
    "        prod_pho = (1 + proton/new_Kabs['Ka_pho'] + new_Kabs['Kb_mg_pho']*mg)\n",
    "\n",
    "        Kf_ATP = (ATP_kref_titration[index] * prod_adp * prod_pho)/(react * proton)\n",
    "        \n",
    "        Keq_ATP.append(Kf_ATP)\n",
    "    \n",
    "    return Keq_ATP"
   ]
  },
  {
   "cell_type": "code",
   "execution_count": 17,
   "metadata": {
    "code_folding": []
   },
   "outputs": [
    {
     "name": "stdout",
     "output_type": "stream",
     "text": [
      "Step    ATP Hydrolysis K`\n",
      "-------------------------\n",
      "1       4.92617e+05 \n",
      "2       5.07268e+05 \n",
      "3       5.30752e+05 \n",
      "4       5.50702e+05 \n",
      "5       5.74032e+05 \n",
      "6       5.94406e+05 \n",
      "7       6.17784e+05 \n",
      "8       6.41812e+05 \n",
      "9       6.62865e+05 \n",
      "10      6.80531e+05 \n",
      "11      7.02615e+05 \n"
     ]
    }
   ],
   "source": [
    "# Assay temperature in Kelvin \n",
    "temp37 = 273.15 + 37\n",
    "\n",
    "Keq_ATP = calc_ATP_Keq_steps(ionicStrengths, temp37, ATP_kref_titration, pH, freeMg)\n",
    "\n",
    "# Print the Results\n",
    "print('{0: <8}{1: <16}'.format('Step', 'ATP Hydrolysis K`'))\n",
    "print('{:-^25}'.format(''))\n",
    "\n",
    "for idx, step in enumerate(Keq_ATP):\n",
    "    print('{0: <8}{1: <#12.6}'.format(idx+1, step))"
   ]
  },
  {
   "cell_type": "markdown",
   "metadata": {},
   "source": [
    "# Calculating the Gibbs Energy"
   ]
  },
  {
   "cell_type": "markdown",
   "metadata": {},
   "source": [
    "The ultimate goal of this endeavor is to determine the Gibbs energy of ATP hydrolysis ($\\Delta G'_{ATP}$) within our Creatine Kinase Clamp.\n",
    "\n",
    "The following equation relates the apparent Gibbs energy of ATP Hydrolysis ($\\Delta G'_{ATP}$) with the apparent *standard* Gibbs energy of ATP hydrolysis ($\\Delta G'{^\\circ}_{ATP}$)\n",
    "\n",
    "$$\n",
    "\\begin{equation}\n",
    "\\Delta G'_{ATP} = \\Delta G'{^\\circ}_{ATP} + \\mathbf{R}T \\ln \\frac {[\\text{ADP}][\\text{P}_i]}{[\\text{ATP}]}\n",
    "\\end{equation}\n",
    "$$"
   ]
  },
  {
   "cell_type": "markdown",
   "metadata": {},
   "source": [
    "## Calculate the apparent standard Gibbs Energy of ATP Hydrolysis"
   ]
  },
  {
   "cell_type": "markdown",
   "metadata": {},
   "source": [
    "The apparent standard Gibbs energy under specified conditions of pH, Ionic Strength, Free Magnesium, and Pressure (which we are not considering in our equations):\n",
    "\n",
    "$$\n",
    "\\Delta G'{^\\circ}_\\text{ATP}\n",
    "$$\n",
    "\n",
    "Another way to express $\\Delta G'{^\\circ}_\\text{ATP}$:\n",
    "$$\n",
    "\\begin{equation}\n",
    "\\Delta G'{^\\circ}_\\text{ATP} = -\\mathbf{R}T \\ln K'_{\\text{ATP}}\n",
    "\\end{equation}\n",
    "$$\n",
    "\n",
    "Where $K'_{\\text{ATP}}$ is the apparent equilbrium constant of ATP hydrolysis. In section 4 we calculated this value at each step in the assay. We will now use those values to calculate $\\Delta G'{^\\circ}_\\text{ATP}$ over the CK clamp."
   ]
  },
  {
   "cell_type": "code",
   "execution_count": 18,
   "metadata": {},
   "outputs": [
    {
     "name": "stdout",
     "output_type": "stream",
     "text": [
      "Step    ΔG°` of ATP Hydrolysis (kJ/mol)\n",
      "---------------------------------------\n",
      "1       -33.8007    \n",
      "2       -33.8762    \n",
      "3       -33.9929    \n",
      "4       -34.0881    \n",
      "5       -34.1951    \n",
      "6       -34.2850    \n",
      "7       -34.3845    \n",
      "8       -34.4829    \n",
      "9       -34.5661    \n",
      "10      -34.6340    \n",
      "11      -34.7163    \n"
     ]
    }
   ],
   "source": [
    "# Temperature of the assay\n",
    "t37 = 273.15 + 37\n",
    "\n",
    "# A list to store the apparent standard Gibbs energy for each step\n",
    "dG_std_ATP = []\n",
    "\n",
    "# iterate through each step of the assay \n",
    "# and calculate the G`° of ATP Hyd.\n",
    "for keq in Keq_ATP:\n",
    "    \n",
    "    # solve the equation and store the value in a temporary variable\n",
    "    dG_std = -const.R * t37 * np.log(keq)\n",
    "    \n",
    "    # Store the value on our list\n",
    "    dG_std_ATP.append(dG_std)\n",
    "\n",
    "# Print the Results\n",
    "print('{0: <8}{1: <16}'.format('Step', 'ΔG°` of ATP Hydrolysis (kJ/mol)'))\n",
    "print('{:-^39}'.format(''))\n",
    "\n",
    "for idx, step in enumerate(dG_std_ATP):\n",
    "    print('{0: <8}{1: <#12.6}'.format(idx+1, step/1000))"
   ]
  },
  {
   "cell_type": "markdown",
   "metadata": {},
   "source": [
    "## Calculate the apparent Gibbs Energy of ATP Hydrolysis"
   ]
  },
  {
   "cell_type": "markdown",
   "metadata": {},
   "source": [
    "### Use the K'<sub>Creatine Kinase</sub> to determine the concentrations of ATP and ADP"
   ]
  },
  {
   "cell_type": "markdown",
   "metadata": {},
   "source": [
    "In section 3, we adjusted the Creatine Kinase Equilibrium Constants to conditions of our assay. We will now use those values to determine the concentration of ATP and ADP at each step in the assay. \n",
    "\n",
    "Below, we define 2 functions to solve for the concentrations of each species in the following Equilibrium Reaction:\n",
    "\n",
    "$$\n",
    "\\begin{equation}\n",
    "K'_{CK} = \\frac {[\\text{ATP}][\\text{Cr}]}\n",
    "                {[\\text{ADP}][\\text{PCr}]}\n",
    "\\end{equation}\n",
    "$$"
   ]
  },
  {
   "cell_type": "markdown",
   "metadata": {},
   "source": [
    "**Step 1** This solves the concentrations of ATP, ADP, Cr, and PCr after the first step in the titration. Prior to this step, the buffer contains Creatine Kinase, Creatine, and Phosphocreatine. After the ATP is added, the equilibrium produces ADP and PCr at the expense of ATP and Creatine.\n",
    "\n",
    "The function solves the following equation for x:\n",
    "\n",
    "$$\n",
    "\\begin{equation}\n",
    "K'_{CK} = \\frac {[\\text{ATP} - x][\\text{Cr} - x]}\n",
    "                {[\\text{ADP} + x][\\text{PCr} + x]}\n",
    "\\end{equation}\n",
    "$$\n",
    "\n",
    "Where \n",
    "\n",
    "- $K'_{CK}$ = the equilibirum constant of Creatine Kinase at the specific I and T\n",
    "- $[\\text{ATP}]$ = the concentration of ATP added the instant before CK converts it\n",
    "- $[\\text{Cr}]$ = the concentration of Creatine in the buffer before the addition of ATP\n",
    "- $[\\text{PCr}]$ = the concentration of Phosphocreatine in the buffer before the addition of ATP\n",
    "- $[\\text{ADP}]$ is assumed to be 0\n",
    "\n",
    "This equilibrium can be rearranged to the following quadratic formula.\n",
    "\n",
    "$$\n",
    "\\begin{equation}\n",
    "\\left(K'_{CK} - 1 \\right)x^2 \n",
    "+ \\left(K'_{CK} \\times [\\text{PCr}] + [\\text{ATP}] + [\\text{Cr}] \\right) x \n",
    "- \\left( [\\text{ATP}] \\times [\\text{Cr}] \\right)\n",
    "= 0\n",
    "\\end{equation}\n",
    "$$\n",
    "\n",
    "We can use the quadratic equation to solve for x:\n",
    "\n",
    "$$\n",
    "x={\\frac {-b\\pm {\\sqrt {b^{2}-4ac\\ }}}{2a}}\n",
    "$$\n",
    "\n",
    "Where \n",
    "\n",
    "- a = $K'_{CK} - 1$\n",
    "- b = $K'_{CK} \\times [\\text{PCr}] + [\\text{ATP}] + [\\text{Cr}]$\n",
    "- c = $[\\text{ATP}] \\times [\\text{Cr}]$"
   ]
  },
  {
   "cell_type": "code",
   "execution_count": 19,
   "metadata": {
    "code_folding": [],
    "collapsed": true
   },
   "outputs": [],
   "source": [
    "# Defining a class to hold the concentration data\n",
    "class CK_concentration:\n",
    "    def __init__(self, atp, cr, adp, pcr):\n",
    "        self.atp  =  atp\n",
    "        self.cr   =  cr\n",
    "        self.adp  =  adp\n",
    "        self.pcr  =  pcr"
   ]
  },
  {
   "cell_type": "code",
   "execution_count": 20,
   "metadata": {
    "code_folding": [],
    "collapsed": true
   },
   "outputs": [],
   "source": [
    "def calc_step_one_conc(Keq_CK, ATP, Cr, PCr):\n",
    "    a = (Keq_CK - 1)\n",
    "    b = (Keq_CK*PCr + ATP + Cr)\n",
    "    c = -ATP*Cr\n",
    "    \n",
    "    x = (-1*b + np.sqrt((b**2) - 4*(a*c))) / (2*a)\n",
    "    \n",
    "    atp = ATP-x\n",
    "    cr  = Cr-x\n",
    "    adp = x\n",
    "    pcr = PCr+x\n",
    "    \n",
    "    concentrations = CK_concentration(atp, cr, adp, pcr)\n",
    "    \n",
    "    return concentrations"
   ]
  },
  {
   "cell_type": "markdown",
   "metadata": {},
   "source": [
    "**Step 2** This solves the concentrations of ATP, ADP, Cr, and PCr for all steps in the titration except the first (where ATP is added)\n",
    "\n",
    "The function solves the following equation for x:\n",
    "\n",
    "$$\n",
    "\\begin{equation}\n",
    "K'_{CK} = \\frac {[\\text{ATP} + x][\\text{Cr} + x]}\n",
    "                {[\\text{ADP} - x][\\text{PCr}_\\text{pre} + \\left( \\text{PCr}_\\text{addition} - x \\right)]}\n",
    "\\end{equation}\n",
    "$$\n",
    "\n",
    "Where \n",
    "\n",
    "- $K'_{CK}$      = the equilibirum constant of Creatine Kinase at the specific I and T\n",
    "- $[\\text{ATP}]$ = the concentration of ATP in the buffer before the addition of PCr\n",
    "- $[\\text{Cr}]$  = the concentration of Creatine in the buffer before the addition of PCr\n",
    "- $[\\text{ADP}]$ = the concentration of ADP in the buffer before the addition of PCr\n",
    "- $[\\text{PCr}_\\text{pre}]$ = the concentration of Phosphocreatine in the buffer before the addition of PCr_add\n",
    "- $[\\text{PCr}_\\text{addition}]$ =  the concentration of Phosphocreatine added the instant before CK converts it\n",
    "\n",
    "This equilibrium can be rearranged into the following quadratic formula\n",
    "\n",
    "$$\n",
    "\\left(K'_{CK} - 1 \\right)x^2 - \\left(\n",
    "    K'_{CK} \\left([\\text{ADP}] - [\\text{PCr}_\\text{pre}] - [\\text{PCr}_\\text{addition}]\\right) - [\\text{ATP}] - [\\text{Cr}]\\right)x + \n",
    "\\left( \n",
    "    K'_{CK} \\times [\\text{ADP}] \\times [\\text{PCr}_\\text{pre}] + K'_{CK} \\times [\\text{ADP}] \\times [\\text{PCr}_\\text{addition}] - [\\text{ATP}] \\times [\\text{Cr}]\\right) = 0\n",
    "$$\n",
    "\n",
    "\n",
    "Again, we can use the quadratic equation to solve for x:\n",
    "\n",
    "$$\n",
    "x={\\frac {-b\\pm {\\sqrt {b^{2}-4ac\\ }}}{2a}}\n",
    "$$\n",
    "\n",
    "Where \n",
    "\n",
    "- a = $K'_{CK} - 1$\n",
    "\n",
    "- b = $ -\\left( K'_{CK} \\left([\\text{ADP}] - [\\text{PCr}_\\text{pre}] - [\\text{PCr}_\\text{addition}]\\right)   - [\\text{ATP}] -[\\text{Cr}]\\right)$\n",
    "\n",
    "\n",
    "- c = $ K'_{CK} \\times [\\text{ADP}] \\times [\\text{PCr}_\\text{pre}] + K'_{CK} \\times [\\text{ADP}] \\times [\\text{PCr}_\\text{addition}]  - [\\text{ATP}] \\times [\\text{Cr}]$"
   ]
  },
  {
   "cell_type": "code",
   "execution_count": 21,
   "metadata": {
    "code_folding": [
     0
    ],
    "collapsed": true
   },
   "outputs": [],
   "source": [
    "def calc_step_conc(Keq_CK, ATP, Cr, ADP, PCr_pre, PCr_add):\n",
    "    \n",
    "    a = (Keq_CK - 1)\n",
    "    b = Keq_CK*(ADP - PCr_pre - PCr_add) - ATP - Cr\n",
    "    c = Keq_CK*ADP*PCr_pre + Keq_CK*ADP*PCr_add - ATP*Cr\n",
    "    \n",
    "    x = (-1*b - np.sqrt((b**2) - 4*(a*c))) / (2*a)\n",
    "    \n",
    "    atp = ATP+x\n",
    "    cr  = Cr+x\n",
    "    adp = ADP-x\n",
    "    pcr = PCr_pre + (PCr_add - x)\n",
    "    \n",
    "    concentrations = CK_concentration(atp, cr, adp, pcr)\n",
    "    \n",
    "    return concentrations"
   ]
  },
  {
   "cell_type": "code",
   "execution_count": 22,
   "metadata": {
    "code_folding": [
     0
    ]
   },
   "outputs": [
    {
     "name": "stdout",
     "output_type": "stream",
     "text": [
      "           Concentrations over the CK Clamp (mM)            \n",
      "    Step        ATP         ADP         PCr          Cr     \n",
      "------------------------------------------------------------\n",
      "     1        4.82263     0.177366    1.17737     4.82263   \n",
      "     2        4.93966    0.0603405    3.06034     4.93966   \n",
      "     3        4.96076    0.0392447    6.03924     4.96076   \n",
      "     4        4.97234    0.0276563    9.02766     4.97234   \n",
      "     5        4.97818    0.0218237    12.0218     4.97818   \n",
      "     6        4.98182    0.0181845    15.0182     4.98182   \n",
      "     7        4.98418    0.0158222    18.0158     4.98418   \n",
      "     8        4.98586    0.0141445    21.0141     4.98586   \n",
      "     9        4.98717    0.0128268    24.0128     4.98717   \n",
      "     10       4.98826    0.0117426    27.0117     4.98826   \n",
      "     11       4.98906    0.0109437    30.0109     4.98906   \n"
     ]
    }
   ],
   "source": [
    "# Calculate the concentrations of ATP, Creatine, ADP, and PCr at each step in the CK Clamp\n",
    "\n",
    "# Starting Concentrations [M]\n",
    "ATP = 0.005\n",
    "Cr  = 0.005\n",
    "PCr = 0.001\n",
    "\n",
    "# A list to store the concentrations\n",
    "step_concentrations = []\n",
    "\n",
    "# Calc. the first step with addition of ATP\n",
    "# and add it to the list\n",
    "step_concentrations.append(calc_step_one_conc(Keq_CK[0], ATP, Cr, PCr))\n",
    "\n",
    "# Calc. second step (addition of 2mM PC)\n",
    "# and add it to the list\n",
    "PCr_add = 0.002\n",
    "\n",
    "step_concentrations.append(calc_step_conc(Keq_CK[1],\n",
    "                                          step_concentrations[0].atp, \n",
    "                                          step_concentrations[0].cr, \n",
    "                                          step_concentrations[0].adp, \n",
    "                                          step_concentrations[0].pcr, \n",
    "                                          PCr_add))\n",
    "\n",
    "# Calc. remaining steps (each with addition of 3mM PCr)\n",
    "# and add them to the list. \n",
    "PCr_add = 0.003\n",
    "\n",
    "index = np.arange(2, len(Keq_CK))\n",
    "\n",
    "for idx in index:\n",
    "    step_concentrations.append(calc_step_conc(Keq_CK[idx],\n",
    "                                              step_concentrations[idx-1].atp, \n",
    "                                              step_concentrations[idx-1].cr, \n",
    "                                              step_concentrations[idx-1].adp, \n",
    "                                              step_concentrations[idx-1].pcr, \n",
    "                                              PCr_add))\n",
    "\n",
    "# Print the Results\n",
    "print('{: ^60}'.format('Concentrations over the CK Clamp (mM)'))\n",
    "print('{0: ^12}{1: ^12.6}{2: ^12.6}{3: ^12.6}{4: ^12.6}'.format('Step', 'ATP', 'ADP', 'PCr', 'Cr'))\n",
    "print('{:-^60}'.format(''))\n",
    "\n",
    "for idx, step in enumerate(step_concentrations):\n",
    "    print('{0: ^12}{1: ^12.6}{2: ^12.6}{3: ^12.6}{4: ^12.6}'.format(idx+1, \n",
    "                                                                    step.atp*1000, \n",
    "                                                                    step.adp*1000, \n",
    "                                                                    step.pcr*1000, \n",
    "                                                                    step.cr*1000))"
   ]
  },
  {
   "cell_type": "markdown",
   "metadata": {},
   "source": [
    "### Use the concentrations of ATP and ADP to calculate the apparent Gibbs Energy of ATP Hydrolysis"
   ]
  },
  {
   "cell_type": "markdown",
   "metadata": {},
   "source": [
    "Now, we will use the $\\Delta G'{^\\circ}_{ATP}$ along with the concentrations of ATP, ADP, and Phosphate to calculate the apparent Gibbs Energy of ATP Hydrolysis with the following equation \n",
    "\n",
    "$$\n",
    "\\begin{equation}\n",
    "\\Delta G'_{ATP} = \\Delta G'{^\\circ}_{ATP} + \\mathbf{R}T \\ln \\frac {[\\text{ADP}][\\text{P}_i]}{[\\text{ATP}]}\n",
    "\\end{equation}\n",
    "$$"
   ]
  },
  {
   "cell_type": "code",
   "execution_count": 23,
   "metadata": {},
   "outputs": [
    {
     "name": "stdout",
     "output_type": "stream",
     "text": [
      "Step    ΔG` of ATP Hydrolysis (kJ/mol)\n",
      "--------------------------------------\n",
      "1       -54.1920    \n",
      "2       -57.1097    \n",
      "3       -58.3466    \n",
      "4       -59.3502    \n",
      "5       -60.0710    \n",
      "6       -60.6332    \n",
      "7       -61.0927    \n",
      "8       -61.4810    \n",
      "9       -61.8171    \n",
      "10      -62.1132    \n",
      "11      -62.3776    \n"
     ]
    }
   ],
   "source": [
    "# List to store the  ΔG' of ATP Hydrolysis at each step of the titration\n",
    "dG_ATP = []\n",
    "temp37 = 273.13 + 37\n",
    "\n",
    "for index, step in enumerate(step_concentrations):\n",
    "    dG_ATP.append(dG_std_ATP[index] + const.R * temp37 * np.log(step.adp*phosphate/step.atp))\n",
    "\n",
    "\n",
    "print('{0: <8}{1: <16}'.format('Step', 'ΔG` of ATP Hydrolysis (kJ/mol)'))\n",
    "print('{:-^38}'.format(''))\n",
    "\n",
    "for idx, step in enumerate(dG_ATP):\n",
    "    print('{0: <8}{1: <#12.6}'.format(idx+1, step/1000))"
   ]
  },
  {
   "cell_type": "code",
   "execution_count": 24,
   "metadata": {
    "scrolled": true
   },
   "outputs": [
    {
     "name": "stdout",
     "output_type": "stream",
     "text": [
      "Step    ΔG` of ATP Hydrolysis (kCal/mol)\n",
      "----------------------------------------\n",
      "1       -12.9522    \n",
      "2       -13.6496    \n",
      "3       -13.9452    \n",
      "4       -14.1851    \n",
      "5       -14.3573    \n",
      "6       -14.4917    \n",
      "7       -14.6015    \n",
      "8       -14.6943    \n",
      "9       -14.7746    \n",
      "10      -14.8454    \n",
      "11      -14.9086    \n"
     ]
    }
   ],
   "source": [
    "print('{0: <8}{1: <16}'.format('Step', 'ΔG` of ATP Hydrolysis (kCal/mol)'))\n",
    "print('{:-^40}'.format(''))\n",
    "\n",
    "for idx, step in enumerate(dG_ATP):\n",
    "    print('{0: <8}{1: <#12.6}'.format(idx+1, step/1000*0.239006))"
   ]
  },
  {
   "cell_type": "markdown",
   "metadata": {},
   "source": [
    "# Graphing the Changes over the CK Clamp"
   ]
  },
  {
   "cell_type": "markdown",
   "metadata": {},
   "source": [
    "This section's purpose is to highlight the importance of correcting for assay conditions. "
   ]
  },
  {
   "cell_type": "code",
   "execution_count": 25,
   "metadata": {
    "code_folding": [
     0
    ],
    "collapsed": true
   },
   "outputs": [],
   "source": [
    "# Import necessary libraries \n",
    "import matplotlib.pyplot as plt\n",
    "import matplotlib.gridspec as gridspec\n",
    "%matplotlib inline\n",
    "\n",
    "# Increase the matplotlib plot size for easier viewing\n",
    "plt.rcParams['ytick.labelsize'] = 16\n",
    "plt.rcParams['xtick.labelsize'] = 16\n",
    "plt.rcParams['axes.titlesize'] = 24\n",
    "plt.rcParams['legend.fontsize'] = 16\n",
    "plt.rcParams['axes.labelsize'] = 20\n",
    "plt.rcParams['figure.figsize'] = (8,6)\n",
    "plt.rcParams['lines.linewidth'] = 3\n",
    "plt.rcParams['figure.dpi'] = 120\n"
   ]
  },
  {
   "cell_type": "code",
   "execution_count": 26,
   "metadata": {
    "collapsed": true
   },
   "outputs": [],
   "source": [
    "# Generate lists to store the concentrations of each molecule\n",
    "ADP = []\n",
    "ATP = []\n",
    "# A list of the ratio\n",
    "ATP_ADP = []\n",
    "for step in step_concentrations:\n",
    "    ADP.append(step.adp*1000)\n",
    "    ATP.append(step.atp*1000)\n",
    "    ATP_ADP.append(step.atp/step.adp*1000)\n"
   ]
  },
  {
   "cell_type": "markdown",
   "metadata": {},
   "source": [
    "## Calculating ATP/ADP Concentrations without adjusting K\\`<sub>eq</sub>\n",
    "In the next cell, we will repeat the calculations performed in section 5.2.1. Instead of using the adjusted K\\`<sub>CK</sub> for each step in the assay, we will use a value that is widely used in the literature: 166. This constant is specified at pH 7.0, free Mg<sup>2+</sup> 1 mM, Ionic Strength 0.25 M, and temperature of 38°C (Golding, Teague, and Dobson 1995)."
   ]
  },
  {
   "cell_type": "code",
   "execution_count": 27,
   "metadata": {
    "code_folding": [
     0
    ]
   },
   "outputs": [
    {
     "name": "stdout",
     "output_type": "stream",
     "text": [
      "           Concentrations over the CK Clamp (mM)            \n",
      "    Step        ATP         ADP         PCr          Cr     \n",
      "------------------------------------------------------------\n",
      "     1        4.87306     0.126939    1.12694     4.87306   \n",
      "     2        4.95843     0.041569    3.04157     4.95843   \n",
      "     3        4.97548    0.0245184    6.02452     4.97548   \n",
      "     4        4.98345    0.0165492    9.01655     4.98345   \n",
      "     5        4.98754    0.0124635    12.0125     4.98754   \n",
      "     6        4.99001    0.00998932    15.01      4.99001   \n",
      "     7        4.99167    0.00833324   18.0083     4.99167   \n",
      "     8        4.99285    0.00714768   21.0071     4.99285   \n",
      "     9        4.99374    0.00625724   24.0063     4.99374   \n",
      "     10       4.99444    0.00556399   27.0056     4.99444   \n",
      "     11       4.99499    0.00500898    30.005     4.99499   \n"
     ]
    }
   ],
   "source": [
    "# Calculate the concentrations of ATP, Creatine, ADP, and PCr at each step in the CK Clamp\n",
    "# Use a constant from the literature without adjusting it over the clamp \n",
    "iKeq_CK = [166]*11\n",
    "\n",
    "# Starting Concentrations [M]\n",
    "iATP = 0.005\n",
    "iCr  = 0.005\n",
    "iPCr = 0.001\n",
    "\n",
    "# A list to store the concentrations\n",
    "istep_concentrations = []\n",
    "\n",
    "# Calc. the first step with addition of ATP\n",
    "# and add it to the list\n",
    "istep_concentrations.append(calc_step_one_conc(iKeq_CK[0], iATP, iCr, iPCr))\n",
    "\n",
    "# Calc. second step (addition of 2mM PC)\n",
    "# and add it to the list\n",
    "iPCr_add = 0.002\n",
    "\n",
    "istep_concentrations.append(calc_step_conc(iKeq_CK[1],\n",
    "                                          istep_concentrations[0].atp, \n",
    "                                          istep_concentrations[0].cr, \n",
    "                                          istep_concentrations[0].adp, \n",
    "                                          istep_concentrations[0].pcr, \n",
    "                                          iPCr_add))\n",
    "\n",
    "# Calc. remaining steps (each with addition of 3mM PCr)\n",
    "# and add them to the list. \n",
    "iPCr_add = 0.003\n",
    "\n",
    "index = np.arange(2, len(iKeq_CK))\n",
    "\n",
    "for idx in index:\n",
    "    istep_concentrations.append(calc_step_conc(iKeq_CK[idx],\n",
    "                                              istep_concentrations[idx-1].atp, \n",
    "                                              istep_concentrations[idx-1].cr, \n",
    "                                              istep_concentrations[idx-1].adp, \n",
    "                                              istep_concentrations[idx-1].pcr, \n",
    "                                              iPCr_add))\n",
    "\n",
    "# Print the Results\n",
    "print('{: ^60}'.format('Concentrations over the CK Clamp (mM)'))\n",
    "print('{0: ^12}{1: ^12.6}{2: ^12.6}{3: ^12.6}{4: ^12.6}'.format('Step', 'ATP', 'ADP', 'PCr', 'Cr'))\n",
    "print('{:-^60}'.format(''))\n",
    "\n",
    "for idx, step in enumerate(istep_concentrations):\n",
    "    print('{0: ^12}{1: ^12.6}{2: ^12.6}{3: ^12.6}{4: ^12.6}'.format(idx+1, \n",
    "                                                                    step.atp*1000, \n",
    "                                                                    step.adp*1000, \n",
    "                                                                    step.pcr*1000, \n",
    "                                                                    step.cr*1000))"
   ]
  },
  {
   "cell_type": "code",
   "execution_count": 28,
   "metadata": {
    "collapsed": true
   },
   "outputs": [],
   "source": [
    "# Generate lists to store the concentrations of each molecule\n",
    "# Non-adjusted equilibrium values\n",
    "iADP = []\n",
    "iATP = []\n",
    "# A list of the ratio\n",
    "iATP_ADP = []\n",
    "for step in istep_concentrations:\n",
    "    iADP.append(step.adp*1000)\n",
    "    iATP.append(step.atp*1000)\n",
    "    iATP_ADP.append(step.atp/step.adp*1000)\n"
   ]
  },
  {
   "cell_type": "markdown",
   "metadata": {},
   "source": [
    "## Plotting and Comparing the Results\n",
    "\n",
    "Failing to accurately adjust the equilibrium constants can result in significant errors."
   ]
  },
  {
   "cell_type": "code",
   "execution_count": 30,
   "metadata": {
    "code_folding": [
     0
    ]
   },
   "outputs": [
    {
     "data": {
      "image/png": "[encoded data removed]",
      "text/plain": [
       "<matplotlib.figure.Figure at 0x900d550>"
      ]
     },
     "metadata": {},
     "output_type": "display_data"
    }
   ],
   "source": [
    "# Plot the ATP, ADP, and ATP/ADP ratios for adjusted (solid lines) and unadjusted (dotted lines)\n",
    "ax1 = plt.subplot2grid((2, 4), (0, 0), colspan=2)\n",
    "ax2 = plt.subplot2grid((2, 4), (1, 0), colspan=2)\n",
    "ax3 = plt.subplot2grid((2, 4), (0, 2), colspan=2, rowspan=2)\n",
    "\n",
    "# Adjusted [ATP]\n",
    "ax1.plot(np.arange(1,9), ATP[0:8], label='ATP', color='C0')\n",
    "ax1.scatter(np.arange(1,9), ATP[0:8], color='C0')\n",
    "# Unadjusted [ATP]\n",
    "ax1.plot(np.arange(1,9), iATP[0:8], label='iATP', ls='dotted', color='C0')\n",
    "ax1.scatter(np.arange(1,9), iATP[0:8])\n",
    "\n",
    "ax1.set_ylabel('[mM]')\n",
    "ax1.set_xticks(np.arange(1,9))\n",
    "ax1.set_xticklabels([], fontsize=8)\n",
    "ax1.legend(loc='center right', )\n",
    "\n",
    "# Adjusted [ADP]\n",
    "ax2.plot(np.arange(1,9), ADP[0:8], label='ADP', color='C2')\n",
    "ax2.scatter(np.arange(1,9), ADP[0:8], color='C2')\n",
    "# Unadjusted [ADP]\n",
    "ax2.plot(np.arange(1,9), iADP[0:8], label='iADP', color='C2', ls='dotted')\n",
    "ax2.scatter(np.arange(1,9), iADP[0:8], color='C2')\n",
    "\n",
    "\n",
    "ax2.set_ylabel('[mM]')\n",
    "ax2.legend(loc='center right', )\n",
    "ax2.set_xticks(np.arange(1,9))\n",
    "ax2.set_xticklabels(['+ATP', '+PCr', '+PCr', '+PCr', '+PCr', '+PCr', '+PCr', '+PCr'], fontsize=8)\n",
    "\n",
    "# Adjusted Ratio\n",
    "ax3.plot(np.arange(1,9), ATP_ADP[0:8], label='ATP/ADP', color='C3')\n",
    "ax3.scatter(np.arange(1,9), ATP_ADP[0:8], color='C3')\n",
    "# Unadjusted Ratio\n",
    "ax3.plot(np.arange(1,9), iATP_ADP[0:8], label='iATP/ADP', color='C3', ls='dotted')\n",
    "ax3.scatter(np.arange(1,9), iATP_ADP[0:8], color='C3')\n",
    "\n",
    "ax3.set_xticks(np.arange(1,9))\n",
    "ax3.set_xticklabels(['+ATP', '+PCr', '+PCr', '+PCr', '+PCr', '+PCr', '+PCr', '+PCr'], fontsize=8)\n",
    "ax3.legend()\n",
    "\n",
    "\n",
    "plt.tight_layout()"
   ]
  },
  {
   "cell_type": "markdown",
   "metadata": {},
   "source": [
    "# References"
   ]
  },
  {
   "cell_type": "markdown",
   "metadata": {},
   "source": [
    "1. Clarke, E. C. W. & Glew, D. N. Evaluation of Debye–Hückel limiting slopes for water between 0 and 150°C. J. Chem. Soc., Faraday Trans. 1 76, 1911–1916 (1980).\n",
    "2. Alberty, R. A. Calculation of transformed thermodynamic properties of biochemical reactants at specified pH and pMg. Biophysical Chemistry 43, 239–254 (1992).\n",
    "3. Golding, E. M., Teague, W. E. & Dobson, G. P. Adjustment of K’ to varying pH and pMg for the creatine kinase, adenylate kinase and ATP hydrolysis equilibria permitting quantitative bioenergetic assessment. Journal of Experimental Biology 198, 1775–1782 (1995).\n",
    "4. Teague, W. E., Golding, E. M. & Dobson, G. P. Adjustment of K’ for the creatine kinase, adenylate kinase and ATP hydrolysis equilibria to varying temperature and ionic strength. Journal of Experimental Biology 199, 509–512 (1996).\n"
   ]
  },
  {
   "cell_type": "code",
   "execution_count": null,
   "metadata": {
    "collapsed": true
   },
   "outputs": [],
   "source": []
  }
 ],
 "metadata": {
  "kernelspec": {
   "display_name": "Python 3",
   "language": "python",
   "name": "python3"
  },
  "language_info": {
   "codemirror_mode": {
    "name": "ipython",
    "version": 3
   },
   "file_extension": ".py",
   "mimetype": "text/x-python",
   "name": "python",
   "nbconvert_exporter": "python",
   "pygments_lexer": "ipython3",
   "version": "3.6.2"
  },
  "toc": {
   "nav_menu": {},
   "number_sections": true,
   "sideBar": true,
   "skip_h1_title": false,
   "toc_cell": true,
   "toc_position": {
    "height": "777px",
    "left": "0px",
    "right": "1068px",
    "top": "106px",
    "width": "356px"
   },
   "toc_section_display": "block",
   "toc_window_display": false
  },
  "varInspector": {
   "cols": {
    "lenName": 16,
    "lenType": 16,
    "lenVar": 40
   },
   "kernels_config": {
    "python": {
     "delete_cmd_postfix": "",
     "delete_cmd_prefix": "del ",
     "library": "var_list.py",
     "varRefreshCmd": "print(var_dic_list())"
    },
    "r": {
     "delete_cmd_postfix": ") ",
     "delete_cmd_prefix": "rm(",
     "library": "var_list.r",
     "varRefreshCmd": "cat(var_dic_list()) "
    }
   },
   "types_to_exclude": [
    "module",
    "function",
    "builtin_function_or_method",
    "instance",
    "_Feature"
   ],
   "window_display": false
  }
 },
 "nbformat": 4,
 "nbformat_minor": 2
}
